{
 "cells": [
  {
   "cell_type": "code",
   "execution_count": 1,
   "id": "b4b25d48",
   "metadata": {},
   "outputs": [
    {
     "name": "stdout",
     "output_type": "stream",
     "text": [
      "Collecting chefboost\n",
      "  Downloading chefboost-0.0.17-py3-none-any.whl (26 kB)\n",
      "Requirement already satisfied: tqdm>=4.30.0 in c:\\users\\harin\\anaconda3\\lib\\site-packages (from chefboost) (4.64.0)\n",
      "Requirement already satisfied: psutil>=5.4.3 in c:\\users\\harin\\anaconda3\\lib\\site-packages (from chefboost) (5.8.0)\n",
      "Requirement already satisfied: numpy>=1.14.0 in c:\\users\\harin\\anaconda3\\lib\\site-packages (from chefboost) (1.21.5)\n",
      "Requirement already satisfied: pandas>=0.22.0 in c:\\users\\harin\\anaconda3\\lib\\site-packages (from chefboost) (1.4.2)\n",
      "Requirement already satisfied: python-dateutil>=2.8.1 in c:\\users\\harin\\anaconda3\\lib\\site-packages (from pandas>=0.22.0->chefboost) (2.8.2)\n",
      "Requirement already satisfied: pytz>=2020.1 in c:\\users\\harin\\anaconda3\\lib\\site-packages (from pandas>=0.22.0->chefboost) (2021.3)\n",
      "Requirement already satisfied: six>=1.5 in c:\\users\\harin\\anaconda3\\lib\\site-packages (from python-dateutil>=2.8.1->pandas>=0.22.0->chefboost) (1.16.0)\n",
      "Requirement already satisfied: colorama in c:\\users\\harin\\anaconda3\\lib\\site-packages (from tqdm>=4.30.0->chefboost) (0.4.4)\n",
      "Installing collected packages: chefboost\n",
      "Successfully installed chefboost-0.0.17\n",
      "Note: you may need to restart the kernel to use updated packages.\n"
     ]
    }
   ],
   "source": [
    "pip install chefboost"
   ]
  },
  {
   "cell_type": "code",
   "execution_count": 2,
   "id": "a66a00d2",
   "metadata": {},
   "outputs": [],
   "source": [
    "from chefboost import Chefboost as chef"
   ]
  },
  {
   "cell_type": "code",
   "execution_count": 15,
   "id": "ad830188",
   "metadata": {},
   "outputs": [],
   "source": [
    "import pandas as pd\n",
    "df=pd.read_csv('comp.csv')"
   ]
  },
  {
   "cell_type": "code",
   "execution_count": 16,
   "id": "663416e1",
   "metadata": {},
   "outputs": [
    {
     "data": {
      "text/html": [
       "<div>\n",
       "<style scoped>\n",
       "    .dataframe tbody tr th:only-of-type {\n",
       "        vertical-align: middle;\n",
       "    }\n",
       "\n",
       "    .dataframe tbody tr th {\n",
       "        vertical-align: top;\n",
       "    }\n",
       "\n",
       "    .dataframe thead th {\n",
       "        text-align: right;\n",
       "    }\n",
       "</style>\n",
       "<table border=\"1\" class=\"dataframe\">\n",
       "  <thead>\n",
       "    <tr style=\"text-align: right;\">\n",
       "      <th></th>\n",
       "      <th>age</th>\n",
       "      <th>income</th>\n",
       "      <th>student</th>\n",
       "      <th>credit</th>\n",
       "      <th>buys_computer</th>\n",
       "    </tr>\n",
       "  </thead>\n",
       "  <tbody>\n",
       "    <tr>\n",
       "      <th>0</th>\n",
       "      <td>youth</td>\n",
       "      <td>high</td>\n",
       "      <td>no</td>\n",
       "      <td>fair</td>\n",
       "      <td>no</td>\n",
       "    </tr>\n",
       "    <tr>\n",
       "      <th>1</th>\n",
       "      <td>youth</td>\n",
       "      <td>high</td>\n",
       "      <td>no</td>\n",
       "      <td>excellent</td>\n",
       "      <td>no</td>\n",
       "    </tr>\n",
       "    <tr>\n",
       "      <th>2</th>\n",
       "      <td>middle</td>\n",
       "      <td>high</td>\n",
       "      <td>no</td>\n",
       "      <td>fair</td>\n",
       "      <td>yes</td>\n",
       "    </tr>\n",
       "    <tr>\n",
       "      <th>3</th>\n",
       "      <td>senior</td>\n",
       "      <td>medium</td>\n",
       "      <td>no</td>\n",
       "      <td>fair</td>\n",
       "      <td>yes</td>\n",
       "    </tr>\n",
       "    <tr>\n",
       "      <th>4</th>\n",
       "      <td>senior</td>\n",
       "      <td>low</td>\n",
       "      <td>yes</td>\n",
       "      <td>fair</td>\n",
       "      <td>yes</td>\n",
       "    </tr>\n",
       "    <tr>\n",
       "      <th>5</th>\n",
       "      <td>senior</td>\n",
       "      <td>low</td>\n",
       "      <td>yes</td>\n",
       "      <td>excellent</td>\n",
       "      <td>no</td>\n",
       "    </tr>\n",
       "    <tr>\n",
       "      <th>6</th>\n",
       "      <td>middle</td>\n",
       "      <td>low</td>\n",
       "      <td>yes</td>\n",
       "      <td>excellent</td>\n",
       "      <td>yes</td>\n",
       "    </tr>\n",
       "    <tr>\n",
       "      <th>7</th>\n",
       "      <td>youth</td>\n",
       "      <td>medium</td>\n",
       "      <td>no</td>\n",
       "      <td>fair</td>\n",
       "      <td>no</td>\n",
       "    </tr>\n",
       "    <tr>\n",
       "      <th>8</th>\n",
       "      <td>youth</td>\n",
       "      <td>low</td>\n",
       "      <td>yes</td>\n",
       "      <td>fair</td>\n",
       "      <td>yes</td>\n",
       "    </tr>\n",
       "    <tr>\n",
       "      <th>9</th>\n",
       "      <td>senior</td>\n",
       "      <td>medium</td>\n",
       "      <td>yes</td>\n",
       "      <td>fair</td>\n",
       "      <td>yes</td>\n",
       "    </tr>\n",
       "    <tr>\n",
       "      <th>10</th>\n",
       "      <td>youth</td>\n",
       "      <td>medium</td>\n",
       "      <td>yes</td>\n",
       "      <td>excellent</td>\n",
       "      <td>yes</td>\n",
       "    </tr>\n",
       "    <tr>\n",
       "      <th>11</th>\n",
       "      <td>middle</td>\n",
       "      <td>medium</td>\n",
       "      <td>no</td>\n",
       "      <td>excellent</td>\n",
       "      <td>yes</td>\n",
       "    </tr>\n",
       "    <tr>\n",
       "      <th>12</th>\n",
       "      <td>medium</td>\n",
       "      <td>high</td>\n",
       "      <td>yes</td>\n",
       "      <td>fair</td>\n",
       "      <td>yes</td>\n",
       "    </tr>\n",
       "    <tr>\n",
       "      <th>13</th>\n",
       "      <td>senior</td>\n",
       "      <td>medium</td>\n",
       "      <td>no</td>\n",
       "      <td>excellent</td>\n",
       "      <td>no</td>\n",
       "    </tr>\n",
       "  </tbody>\n",
       "</table>\n",
       "</div>"
      ],
      "text/plain": [
       "       age  income student     credit buys_computer\n",
       "0    youth    high      no       fair            no\n",
       "1    youth    high      no  excellent            no\n",
       "2   middle    high      no       fair           yes\n",
       "3   senior  medium      no       fair           yes\n",
       "4   senior     low     yes       fair           yes\n",
       "5   senior     low     yes  excellent            no\n",
       "6   middle     low     yes  excellent           yes\n",
       "7    youth  medium      no       fair            no\n",
       "8    youth     low     yes       fair           yes\n",
       "9   senior  medium     yes       fair           yes\n",
       "10   youth  medium     yes  excellent           yes\n",
       "11  middle  medium      no  excellent           yes\n",
       "12  medium    high     yes       fair           yes\n",
       "13  senior  medium      no  excellent            no"
      ]
     },
     "execution_count": 16,
     "metadata": {},
     "output_type": "execute_result"
    }
   ],
   "source": [
    "df"
   ]
  },
  {
   "cell_type": "code",
   "execution_count": 17,
   "id": "d89edfcf",
   "metadata": {},
   "outputs": [
    {
     "name": "stdout",
     "output_type": "stream",
     "text": [
      "[INFO]:  4 CPU cores will be allocated in parallel running\n",
      "C4.5  tree is going to be built...\n",
      "-------------------------\n",
      "finished in  0.8310751914978027  seconds\n",
      "-------------------------\n",
      "Evaluate  train set\n",
      "-------------------------\n",
      "Accuracy:  100.0 % on  14  instances\n",
      "Labels:  ['no' 'yes']\n",
      "Confusion matrix:  [[5, 0], [0, 9]]\n",
      "Precision:  100.0 %, Recall:  100.0 %, F1:  100.0 %\n"
     ]
    }
   ],
   "source": [
    "config = {'algorithm': 'C4.5'}\n",
    "model = chef.fit(df, config = config, target_label = 'buys_computer')"
   ]
  },
  {
   "cell_type": "code",
   "execution_count": 18,
   "id": "178a1ef6",
   "metadata": {},
   "outputs": [],
   "source": [
    "prediction = chef.predict(model, ['medium','high','yes','fair'])"
   ]
  },
  {
   "cell_type": "code",
   "execution_count": 19,
   "id": "099c9610",
   "metadata": {},
   "outputs": [
    {
     "data": {
      "text/plain": [
       "'yes'"
      ]
     },
     "execution_count": 19,
     "metadata": {},
     "output_type": "execute_result"
    }
   ],
   "source": [
    "prediction"
   ]
  }
 ],
 "metadata": {
  "kernelspec": {
   "display_name": "Python 3 (ipykernel)",
   "language": "python",
   "name": "python3"
  },
  "language_info": {
   "codemirror_mode": {
    "name": "ipython",
    "version": 3
   },
   "file_extension": ".py",
   "mimetype": "text/x-python",
   "name": "python",
   "nbconvert_exporter": "python",
   "pygments_lexer": "ipython3",
   "version": "3.9.12"
  }
 },
 "nbformat": 4,
 "nbformat_minor": 5
}
